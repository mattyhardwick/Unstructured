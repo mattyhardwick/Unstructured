{
 "cells": [
  {
   "cell_type": "markdown",
   "metadata": {},
   "source": [
    "# Upload CWL Data to HDFS\n",
    "## MSBX 5420: Week 7\n",
    "This notebook uploads Call of Duty World League data directories to the HDFS."
   ]
  },
  {
   "cell_type": "code",
   "execution_count": 2,
   "metadata": {},
   "outputs": [],
   "source": [
    "from hdfs import InsecureClient\n",
    "import glob"
   ]
  },
  {
   "cell_type": "code",
   "execution_count": 3,
   "metadata": {},
   "outputs": [],
   "source": [
    "client = InsecureClient('http://namenode:50070', user='vagrant')"
   ]
  },
  {
   "cell_type": "code",
   "execution_count": 4,
   "metadata": {},
   "outputs": [
    {
     "data": {
      "text/plain": [
       "['structured-2018-04-01-birmingham',\n",
       " 'structured-2018-01-14-neworleans',\n",
       " 'structured-2018-04-19-relegation',\n",
       " 'structured-2018-04-08-proleague1',\n",
       " 'structured-2018-08-19-champs',\n",
       " 'structured-2018-07-29-proleague2',\n",
       " 'structured-2018-06-17-anaheim',\n",
       " 'structured-2018-03-11-atlanta',\n",
       " 'structured-2018-04-22-seattle']"
      ]
     },
     "execution_count": 4,
     "metadata": {},
     "output_type": "execute_result"
    }
   ],
   "source": [
    "# testing glob\n",
    "glob.glob('structured-*')"
   ]
  },
  {
   "cell_type": "code",
   "execution_count": null,
   "metadata": {},
   "outputs": [],
   "source": [
    "# loop through each directory and upload to hdfs\n",
    "for file in list(glob.glob('structured-*')):\n",
    "    localpath = file\n",
    "    hdfspath = '/Users/vagrant/' + file\n",
    "    client.upload(hdfspath, localpath)"
   ]
  },
  {
   "cell_type": "code",
   "execution_count": 5,
   "metadata": {},
   "outputs": [
    {
     "data": {
      "text/plain": [
       "['mydf.csv',\n",
       " 'myrdd.pickle',\n",
       " 'structured-2018-01-14-neworleans',\n",
       " 'structured-2018-03-11-atlanta',\n",
       " 'structured-2018-04-01-birmingham',\n",
       " 'structured-2018-04-08-proleague1',\n",
       " 'structured-2018-04-19-relegation',\n",
       " 'structured-2018-04-22-seattle',\n",
       " 'structured-2018-06-17-anaheim',\n",
       " 'structured-2018-07-29-proleague2',\n",
       " 'structured-2018-08-19-champs',\n",
       " 'test_df.csv',\n",
       " 'test_df.parquet']"
      ]
     },
     "execution_count": 5,
     "metadata": {},
     "output_type": "execute_result"
    }
   ],
   "source": [
    "# check upload\n",
    "client.list('/Users/vagrant')"
   ]
  }
 ],
 "metadata": {
  "kernelspec": {
   "display_name": "Python 3",
   "language": "python",
   "name": "python3"
  },
  "language_info": {
   "codemirror_mode": {
    "name": "ipython",
    "version": 3
   },
   "file_extension": ".py",
   "mimetype": "text/x-python",
   "name": "python",
   "nbconvert_exporter": "python",
   "pygments_lexer": "ipython3",
   "version": "3.7.2"
  }
 },
 "nbformat": 4,
 "nbformat_minor": 2
}
