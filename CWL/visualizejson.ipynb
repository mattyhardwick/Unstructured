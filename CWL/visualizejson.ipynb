{
 "cells": [
  {
   "cell_type": "markdown",
   "metadata": {},
   "source": [
    "# Visualize json\n",
    "## MSBX 5420: Week 7\n",
    "This notebook parses Call of Duty World League match data and plots the spawns and deaths of every player across multiple tournaments."
   ]
  },
  {
   "cell_type": "code",
   "execution_count": 1,
   "metadata": {},
   "outputs": [],
   "source": [
    "import os\n",
    "import json\n",
    "import ujson\n",
    "import matplotlib.pyplot as plt\n",
    "from matplotlib.backends.backend_agg import FigureCanvasAgg as FCagg\n",
    "from matplotlib.figure import Figure\n",
    "import glob"
   ]
  },
  {
   "cell_type": "code",
   "execution_count": 10,
   "metadata": {},
   "outputs": [],
   "source": [
    "# function to call the map image, plot the spawns/deaths, and export the new image\n",
    "def visualize(data, background, image):\n",
    "    death_pos, spawn_pos = {'x': [], 'y': []}, {'x': [], 'y': []}\n",
    "    # get pos data\n",
    "    events = data['events']\n",
    "    for evt in events:\n",
    "        if evt['type'] == 'spawn':\n",
    "            spawn_pos['x'].append( evt['data']['pos']['x'] )\n",
    "            spawn_pos['y'].append( evt['data']['pos']['y'] )\n",
    "        if evt['type'] == 'death':\n",
    "            death_pos['x'].append( evt['data']['pos']['x'] )\n",
    "            death_pos['y'].append( evt['data']['pos']['y'] )\n",
    "            \n",
    "    # create figure\n",
    "    fig = Figure()\n",
    "    FCagg(fig)\n",
    "    ax = fig.subplots(1,1)\n",
    "    \n",
    "    fig.set_figheight(15)\n",
    "    fig.set_figwidth(15)\n",
    "    \n",
    "    # plot map\n",
    "    map_image = plt.imread(background)\n",
    "    ax.imshow(map_image)\n",
    "    ax.set_facecolor((210/255.0, 210/255.0, 210/255.0))\n",
    "    \n",
    "    # plot spawns\n",
    "    ax.scatter(spawn_pos['x'], spawn_pos['y'], color='blue')\n",
    "    # plot death events\n",
    "    ax.scatter(death_pos['x'], death_pos['y'], color='red')\n",
    "    # set title\n",
    "    ax.set_title('{} ({})'.format(data['map'], data['mode']))\n",
    "    \n",
    "    fig.savefig(image)\n"
   ]
  },
  {
   "cell_type": "code",
   "execution_count": 17,
   "metadata": {},
   "outputs": [],
   "source": [
    "# setting paths for data and maps\n",
    "datadirs = glob.glob('structured-2018-*')\n",
    "\n",
    "mapdir = os.path.join('..', 'week7', 'maps', 'ww2')\n",
    "\n",
    "# dictionary reference for each map name and its image file\n",
    "map_images = {\n",
    "    'Aachen': 'aachen.png',\n",
    "    'Ardennes Forest': 'ardennes_forest.png',\n",
    "    'Flak Tower': 'flaktower.png',\n",
    "    'Gibraltar': 'gibraltar.png',\n",
    "    'London Docks': 'london_docks.png',\n",
    "    'Sainte Marie du Mont': 'sainte_marie_du_mont.png' ,\n",
    "    'USS Texas': 'uss_texas.png',\n",
    "    'Valkyrie': 'valkyrie.png'\n",
    "}"
   ]
  },
  {
   "cell_type": "code",
   "execution_count": 18,
   "metadata": {},
   "outputs": [],
   "source": [
    "# function to parse each json and call the appropriate map\n",
    "def parsejson(file, image):\n",
    "    with open(file, 'r') as f:\n",
    "        rawdata = f.read()\n",
    "    data = ujson.loads(rawdata)\n",
    "    \n",
    "    mapname = data['map']\n",
    "    if mapname in map_images:\n",
    "        mapfile = map_images[mapname]\n",
    "        background = os.path.join(mapdir, mapfile)\n",
    "        visualize(data, background, image)"
   ]
  },
  {
   "cell_type": "code",
   "execution_count": 20,
   "metadata": {},
   "outputs": [],
   "source": [
    "# loop through directories and json files\n",
    "for datadir in datadirs:\n",
    "    imagedir = 'maps_' + datadir\n",
    "    if not os.path.exists(imagedir):\n",
    "        os.mkdir(imagedir)\n",
    "    files = glob.glob(os.path.join(datadir, '*.json'))\n",
    "    \n",
    "    for file in files:\n",
    "        basename = os.path.basename(file)\n",
    "        no_ext = os.path.splitext(basename)[0]\n",
    "        png = no_ext + '.png'\n",
    "        #name = file[:-5] + '.png'\n",
    "        image = os.path.join(imagedir, png)\n",
    "        parsejson(file, image)"
   ]
  }
 ],
 "metadata": {
  "kernelspec": {
   "display_name": "Python 3",
   "language": "python",
   "name": "python3"
  },
  "language_info": {
   "codemirror_mode": {
    "name": "ipython",
    "version": 3
   },
   "file_extension": ".py",
   "mimetype": "text/x-python",
   "name": "python",
   "nbconvert_exporter": "python",
   "pygments_lexer": "ipython3",
   "version": "3.7.2"
  }
 },
 "nbformat": 4,
 "nbformat_minor": 2
}
